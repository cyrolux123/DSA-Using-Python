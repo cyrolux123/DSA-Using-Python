{
  "nbformat": 4,
  "nbformat_minor": 0,
  "metadata": {
    "colab": {
      "provenance": []
    },
    "kernelspec": {
      "name": "python3",
      "display_name": "Python 3"
    },
    "language_info": {
      "name": "python"
    }
  },
  "cells": [
    {
      "cell_type": "code",
      "source": [
        "pip install memory_profiler"
      ],
      "metadata": {
        "colab": {
          "base_uri": "https://localhost:8080/"
        },
        "id": "Uiy6S2g6h1PR",
        "outputId": "90339d19-616f-4eb2-dec8-24a61a9b9e18"
      },
      "execution_count": 10,
      "outputs": [
        {
          "output_type": "stream",
          "name": "stdout",
          "text": [
            "Requirement already satisfied: memory_profiler in /usr/local/lib/python3.10/dist-packages (0.61.0)\n",
            "Requirement already satisfied: psutil in /usr/local/lib/python3.10/dist-packages (from memory_profiler) (5.9.5)\n"
          ]
        }
      ]
    },
    {
      "cell_type": "code",
      "execution_count": 11,
      "metadata": {
        "colab": {
          "base_uri": "https://localhost:8080/"
        },
        "id": "-ExcRjeEfW1g",
        "outputId": "bcd15af5-0f16-4c63-f601-d183a15926c1"
      },
      "outputs": [
        {
          "output_type": "stream",
          "name": "stdout",
          "text": [
            "Hello Nepal\n"
          ]
        }
      ],
      "source": [
        "print('Hello Nepal')"
      ]
    },
    {
      "cell_type": "code",
      "source": [
        "def sumOfN1(n):\n",
        "  sum = 0\n",
        "  for i in range(1, n+1):\n",
        "    sum = sum + i\n",
        "  return sum\n",
        "\n",
        "sums = sumOfN1(1000)\n",
        "print(sums)"
      ],
      "metadata": {
        "id": "cMNLkk97feHu",
        "colab": {
          "base_uri": "https://localhost:8080/"
        },
        "outputId": "d4354174-767d-43ac-a26b-c86afa627972"
      },
      "execution_count": 12,
      "outputs": [
        {
          "output_type": "stream",
          "name": "stdout",
          "text": [
            "500500\n"
          ]
        }
      ]
    },
    {
      "cell_type": "code",
      "source": [
        "def sumOfN2(n):\n",
        "  return (n * (n + 1)) / 2\n",
        "\n",
        "sums = sumOfN2(1000)\n",
        "print(sums)"
      ],
      "metadata": {
        "id": "B_5q6m1Ef7JY",
        "colab": {
          "base_uri": "https://localhost:8080/"
        },
        "outputId": "b76ab127-813f-4fcb-9862-2cd8b0a2411a"
      },
      "execution_count": 13,
      "outputs": [
        {
          "output_type": "stream",
          "name": "stdout",
          "text": [
            "500500.0\n"
          ]
        }
      ]
    },
    {
      "cell_type": "code",
      "source": [
        "%timeit sumOfN1(1000)"
      ],
      "metadata": {
        "id": "axRfA37zgRvG",
        "colab": {
          "base_uri": "https://localhost:8080/"
        },
        "outputId": "aa321e27-bf35-4aa1-95c7-89055e524ec9"
      },
      "execution_count": 14,
      "outputs": [
        {
          "output_type": "stream",
          "name": "stdout",
          "text": [
            "84.6 µs ± 23.8 µs per loop (mean ± std. dev. of 7 runs, 10000 loops each)\n"
          ]
        }
      ]
    },
    {
      "cell_type": "code",
      "source": [
        "%timeit sumOfN2(1000)"
      ],
      "metadata": {
        "id": "twbGI0hhgdra",
        "colab": {
          "base_uri": "https://localhost:8080/"
        },
        "outputId": "0917e934-7aec-4e6d-9091-f65f084a573b"
      },
      "execution_count": 15,
      "outputs": [
        {
          "output_type": "stream",
          "name": "stdout",
          "text": [
            "237 ns ± 59.6 ns per loop (mean ± std. dev. of 7 runs, 10000000 loops each)\n"
          ]
        }
      ]
    },
    {
      "cell_type": "code",
      "source": [
        "%load_ext memory_profiler"
      ],
      "metadata": {
        "id": "PXJ_yW2Ig4HE"
      },
      "execution_count": 16,
      "outputs": []
    },
    {
      "cell_type": "code",
      "source": [
        "%memit sumOfN1(100000000)"
      ],
      "metadata": {
        "id": "1qYvhWWGhEmX",
        "colab": {
          "base_uri": "https://localhost:8080/"
        },
        "outputId": "cd5b5e82-37fe-4ff6-dc87-c2e5fcabf3f4"
      },
      "execution_count": 19,
      "outputs": [
        {
          "output_type": "stream",
          "name": "stdout",
          "text": [
            "peak memory: 111.42 MiB, increment: 0.05 MiB\n"
          ]
        }
      ]
    },
    {
      "cell_type": "code",
      "source": [
        "%memit sumOfN2(100000000)"
      ],
      "metadata": {
        "id": "A_BKanabhK-K",
        "colab": {
          "base_uri": "https://localhost:8080/"
        },
        "outputId": "c35101a1-3f76-46d2-d8b0-6e41c7635051"
      },
      "execution_count": 21,
      "outputs": [
        {
          "output_type": "stream",
          "name": "stdout",
          "text": [
            "peak memory: 200.89 MiB, increment: 0.00 MiB\n"
          ]
        }
      ]
    }
  ]
}